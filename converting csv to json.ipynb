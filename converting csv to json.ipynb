{
 "cells": [
  {
   "cell_type": "code",
   "execution_count": 1,
   "id": "f4249009",
   "metadata": {},
   "outputs": [],
   "source": [
    "import csv\n",
    "import json"
   ]
  },
  {
   "cell_type": "code",
   "execution_count": 2,
   "id": "2e67e4e1",
   "metadata": {},
   "outputs": [],
   "source": [
    "def csv_to_json(csvFilePath, jsonFilePath):\n",
    "    jsonArray = []\n",
    "      \n",
    "    #read csv file\n",
    "    with open(csvFilePath, encoding='utf-8') as csvf: \n",
    "        #load csv file data using csv library's dictionary reader\n",
    "        csvReader = csv.DictReader(csvf) \n",
    "\n",
    "        #convert each csv row into python dict\n",
    "        for row in csvReader: \n",
    "            #add this python dict to json array\n",
    "            jsonArray.append(row)\n",
    "  \n",
    "    #convert python jsonArray to JSON String and write to file\n",
    "    with open(jsonFilePath, 'w', encoding='utf-8') as jsonf: \n",
    "        jsonString = json.dumps(jsonArray, indent=4)\n",
    "        jsonf.write(jsonString)\n",
    "          \n",
    "csvFilePath = r'D:\\csv to json\\students.csv'\n",
    "jsonFilePath = r'D:\\csv to json\\students.json'\n",
    "csv_to_json(csvFilePath, jsonFilePath)"
   ]
  },
  {
   "cell_type": "code",
   "execution_count": 14,
   "id": "4c87d6a2",
   "metadata": {},
   "outputs": [],
   "source": [
    "csv_FilePath = r'D:\\csv to json\\students.csv'\n",
    "json_FilePath = r'D:\\csv to json\\students1.json'\n",
    "# read csv file and add to data \n",
    "data = {}\n",
    "with open(csv_FilePath, encoding='utf-8') as scvFile:\n",
    "    csvReader = csv.DictReader(scvFile)\n",
    "    for rows in csvReader:\n",
    "        id = rows['id']\n",
    "        data[id] = rows\n",
    "        \n",
    "# Create new JSon file and write data on it\n",
    "with open(json_FilePath, 'w',encoding='utf-8') as jsonFile:\n",
    "    # male it more readable \n",
    "    jsonFile.write(json.dumps(data, indent=4))"
   ]
  },
  {
   "cell_type": "code",
   "execution_count": null,
   "id": "d1a5edae",
   "metadata": {},
   "outputs": [],
   "source": []
  }
 ],
 "metadata": {
  "kernelspec": {
   "display_name": "Python 3",
   "language": "python",
   "name": "python3"
  },
  "language_info": {
   "codemirror_mode": {
    "name": "ipython",
    "version": 3
   },
   "file_extension": ".py",
   "mimetype": "text/x-python",
   "name": "python",
   "nbconvert_exporter": "python",
   "pygments_lexer": "ipython3",
   "version": "3.8.8"
  }
 },
 "nbformat": 4,
 "nbformat_minor": 5
}
